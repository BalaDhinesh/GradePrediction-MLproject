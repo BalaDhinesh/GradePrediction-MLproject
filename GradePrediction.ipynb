{
 "cells": [
  {
   "cell_type": "code",
   "execution_count": 2,
   "metadata": {},
   "outputs": [],
   "source": [
    "import xgboost as xgb\n",
    "import pandas as pd\n",
    "import numpy as np\n",
    "from sklearn.model_selection import train_test_split\n",
    "import requests \n",
    "import json\n",
    "response = requests.get(\"https://mettl-arq.s3-ap-southeast-1.amazonaws.com/questions/iit-kanpur/cyber-security-hackathon/round1/problem2/f1fswvsvi0/training.json\")\n",
    " \n",
    "person = response.text\n",
    "person_dict = json.loads(person)"
   ]
  },
  {
   "cell_type": "code",
   "execution_count": 3,
   "metadata": {},
   "outputs": [],
   "source": [
    "df = pd.DataFrame.from_dict(person_dict[0],orient='index')\n",
    "for i in range(len(person_dict)-1):\n",
    "    df = df.append(pd.DataFrame.from_dict(person_dict[i+1], orient='index') )"
   ]
  },
  {
   "cell_type": "code",
   "execution_count": 4,
   "metadata": {},
   "outputs": [
    {
     "name": "stdout",
     "output_type": "stream",
     "text": [
      "                        score1  score2  score3  score4  score5  score6  \\\n",
      "SAI TARUN PAWAR             94      84      81      67      99      67   \n",
      "AKSHAY Dasgupta             92      98      97      95      85      81   \n",
      "Aneet Randhawa              91      93      91      95      93      95   \n",
      "FARDIN NAWAB ALI BHATI      93      98      77      72      91      84   \n",
      "ASHISH KUMAR                82      94      84      77      87      75   \n",
      "...                        ...     ...     ...     ...     ...     ...   \n",
      "KAMESH SHRIVASTAVA          95      91      94      89      76      91   \n",
      "Sonu Dave                   87      86      64      98      65      66   \n",
      "Ankit Sodhi                 96      91      96      99      77      86   \n",
      "Ram Gopal Jaiswal           87      87      64      96      97      85   \n",
      "RAVI KUMAR MISHRA           98      93      96      94      92      91   \n",
      "\n",
      "                        score7  score8  score9  score10  \n",
      "SAI TARUN PAWAR             72      93      63       94  \n",
      "AKSHAY Dasgupta             83      83      82       77  \n",
      "Aneet Randhawa              93      83      85       91  \n",
      "FARDIN NAWAB ALI BHATI      93      74      97       75  \n",
      "ASHISH KUMAR                89      99      75       80  \n",
      "...                        ...     ...     ...      ...  \n",
      "KAMESH SHRIVASTAVA          79      76      87       93  \n",
      "Sonu Dave                   46      83      54       92  \n",
      "Ankit Sodhi                 97      73      91       91  \n",
      "Ram Gopal Jaiswal           74      81      84       70  \n",
      "RAVI KUMAR MISHRA           93      98      98       83  \n",
      "\n",
      "[5000 rows x 10 columns]\n",
      "                              grade\n",
      "SAI TARUN PAWAR                Fair\n",
      "AKSHAY Dasgupta           Very good\n",
      "Aneet Randhawa          Exceptional\n",
      "FARDIN NAWAB ALI BHATI         Good\n",
      "ASHISH KUMAR                   Fair\n",
      "...                             ...\n",
      "KAMESH SHRIVASTAVA             Good\n",
      "Sonu Dave                      Poor\n",
      "Ankit Sodhi                    Good\n",
      "Ram Gopal Jaiswal              Fair\n",
      "RAVI KUMAR MISHRA       Exceptional\n",
      "\n",
      "[5000 rows x 1 columns]\n"
     ]
    }
   ],
   "source": [
    "X=df[['score1','score2','score3','score4','score5','score6','score7','score8','score9','score10']]\n",
    "y=df[['grade']]\n",
    "print(X)\n",
    "print(y)"
   ]
  },
  {
   "cell_type": "code",
   "execution_count": 5,
   "metadata": {},
   "outputs": [],
   "source": [
    "df.loc[df['grade'] =='Exceptional', 'grade'] = 0\n",
    "df.loc[df['grade'] =='Poor', 'grade'] = 1\n",
    "df.loc[df['grade'] =='Fair', 'grade'] = 2\n",
    "df.loc[df['grade'] =='Good', 'grade'] = 3\n",
    "df.loc[df['grade'] =='Very good', 'grade'] = 4"
   ]
  },
  {
   "cell_type": "code",
   "execution_count": 6,
   "metadata": {},
   "outputs": [
    {
     "data": {
      "text/plain": [
       "SAI TARUN PAWAR           2\n",
       "AKSHAY Dasgupta           4\n",
       "Aneet Randhawa            0\n",
       "FARDIN NAWAB ALI BHATI    3\n",
       "ASHISH KUMAR              2\n",
       "                         ..\n",
       "KAMESH SHRIVASTAVA        3\n",
       "Sonu Dave                 1\n",
       "Ankit Sodhi               3\n",
       "Ram Gopal Jaiswal         2\n",
       "RAVI KUMAR MISHRA         0\n",
       "Name: grade, Length: 5000, dtype: int64"
      ]
     },
     "execution_count": 6,
     "metadata": {},
     "output_type": "execute_result"
    }
   ],
   "source": [
    "y=df['grade']\n",
    "y=y.astype('int')\n",
    "y"
   ]
  },
  {
   "cell_type": "code",
   "execution_count": 7,
   "metadata": {},
   "outputs": [],
   "source": [
    "X_train, X_test, y_train, y_test = train_test_split(\n",
    "    X, y, test_size=0.2, random_state=7)"
   ]
  },
  {
   "cell_type": "code",
   "execution_count": 94,
   "metadata": {},
   "outputs": [
    {
     "data": {
      "text/plain": [
       "XGBClassifier(base_score=0.5, booster='gbtree', colsample_bylevel=1,\n",
       "              colsample_bynode=1, colsample_bytree=1, gamma=0, gpu_id=-1,\n",
       "              importance_type='gain', interaction_constraints='',\n",
       "              learning_rate=0.01, max_delta_step=0, max_depth=10,\n",
       "              min_child_weight=1, missing=nan, monotone_constraints='()',\n",
       "              n_estimators=5, n_jobs=0, num_parallel_tree=1,\n",
       "              objective='multi:softprob', random_state=0, reg_alpha=0,\n",
       "              reg_lambda=1, scale_pos_weight=None, subsample=1,\n",
       "              tree_method='exact', validate_parameters=1, verbosity=None)"
      ]
     },
     "execution_count": 94,
     "metadata": {},
     "output_type": "execute_result"
    }
   ],
   "source": [
    "model = xgb.XGBClassifier(objective=\"binary:logistic\",max_depth=10, n_estimators=5, learning_rate= 0.01)\n",
    "model.fit(X_train, y_train)"
   ]
  },
  {
   "cell_type": "code",
   "execution_count": 95,
   "metadata": {},
   "outputs": [],
   "source": [
    "preds = model.predict(X_test)"
   ]
  },
  {
   "cell_type": "code",
   "execution_count": 96,
   "metadata": {},
   "outputs": [],
   "source": [
    "accuracy = float(np.sum(preds==y_test))/y_test.shape[0]"
   ]
  },
  {
   "cell_type": "code",
   "execution_count": 97,
   "metadata": {},
   "outputs": [
    {
     "data": {
      "text/plain": [
       "0.965"
      ]
     },
     "execution_count": 97,
     "metadata": {},
     "output_type": "execute_result"
    }
   ],
   "source": [
    "accuracy"
   ]
  },
  {
   "cell_type": "code",
   "execution_count": 98,
   "metadata": {},
   "outputs": [
    {
     "data": {
      "text/plain": [
       "0.965"
      ]
     },
     "execution_count": 98,
     "metadata": {},
     "output_type": "execute_result"
    }
   ],
   "source": [
    "from sklearn.metrics import r2_score,mean_absolute_error\n",
    "model.score(X_test,y_test)"
   ]
  },
  {
   "cell_type": "code",
   "execution_count": null,
   "metadata": {},
   "outputs": [],
   "source": []
  }
 ],
 "metadata": {
  "kernelspec": {
   "display_name": "Python 3",
   "language": "python",
   "name": "python3"
  },
  "language_info": {
   "codemirror_mode": {
    "name": "ipython",
    "version": 3
   },
   "file_extension": ".py",
   "mimetype": "text/x-python",
   "name": "python",
   "nbconvert_exporter": "python",
   "pygments_lexer": "ipython3",
   "version": "3.7.6"
  }
 },
 "nbformat": 4,
 "nbformat_minor": 4
}
